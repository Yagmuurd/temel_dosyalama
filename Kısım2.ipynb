{
  "cells": [
    {
      "cell_type": "code",
      "execution_count": null,
      "metadata": {},
      "outputs": [],
      "source": [
        "words_dict = {}\n",
        "with open('istanbul_data.txt') as input_file:\n",
        "    file_content = input_file.readlines()\n",
        "for lines in file_content:\n",
        "    words = lines.splitlines(keepends=True)\n",
        "    for word in words:\n",
        "        if word not in words_dict:\n",
        "            words_dict[word] = 0\n",
        "        words_dict[word] += 1      \n",
        "print(words_dict)"
      ]
    },
    {
      "cell_type": "code",
      "execution_count": null,
      "metadata": {},
      "outputs": [],
      "source": [
        "import nltk\n",
        "with open('istanbul_data.txt') as f:\n",
        "    text = str(f.readlines())\n",
        "ngrams = tuple(nltk.ngrams(text.split(' '), n=3))\n",
        "ngrams_count = {i : ngrams.count(i) for i in ngrams}\n",
        "print(ngrams_count)"
      ]
    }
  ],
  "metadata": {
    "colab": {
      "name": "2. Hafta.ipynb",
      "provenance": []
    },
    "kernelspec": {
      "display_name": "Python 3.9.7 ('base')",
      "language": "python",
      "name": "python3"
    },
    "language_info": {
      "codemirror_mode": {
        "name": "ipython",
        "version": 3
      },
      "file_extension": ".py",
      "mimetype": "text/x-python",
      "name": "python",
      "nbconvert_exporter": "python",
      "pygments_lexer": "ipython3",
      "version": "3.9.7"
    },
    "vscode": {
      "interpreter": {
        "hash": "5b7bcb5cad9bed29e3bc2556c968cd63ae79dbab1d37c4997008c560d2c4b0cc"
      }
    }
  },
  "nbformat": 4,
  "nbformat_minor": 0
}
