{
  "cells": [
    {
      "cell_type": "code",
      "execution_count": null,
      "metadata": {},
      "outputs": [],
      "source": [
        "with open(\"istanbul_data.txt\", \"r\") as f:\n",
        "    lines = f.readlines()\n",
        "    count_dict = {}\n",
        "    for i in lines:\n",
        "        for z in i:\n",
        "            word_count = lines.count(z)\n",
        "            count_dict[z] = word_count\n",
        "print(count_dict)"
      ]
    }
  ],
  "metadata": {
    "colab": {
      "name": "2. Hafta.ipynb",
      "provenance": []
    },
    "kernelspec": {
      "display_name": "Python 3.9.7 ('base')",
      "language": "python",
      "name": "python3"
    },
    "language_info": {
      "codemirror_mode": {
        "name": "ipython",
        "version": 3
      },
      "file_extension": ".py",
      "mimetype": "text/x-python",
      "name": "python",
      "nbconvert_exporter": "python",
      "pygments_lexer": "ipython3",
      "version": "3.9.7"
    },
    "vscode": {
      "interpreter": {
        "hash": "5b7bcb5cad9bed29e3bc2556c968cd63ae79dbab1d37c4997008c560d2c4b0cc"
      }
    }
  },
  "nbformat": 4,
  "nbformat_minor": 0
}
