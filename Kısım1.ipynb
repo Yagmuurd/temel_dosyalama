{
  "cells": [
    {
      "cell_type": "code",
      "execution_count": null,
      "metadata": {
        "vscode": {
          "languageId": "plaintext"
        }
      },
      "outputs": [],
      "source": [
        "#küçük harfe çevrilmesi\n",
        "with open('istanbul_data.txt', 'r+') as select:\n",
        "    low_ch = select.read().lower()\n",
        "    \n",
        "#noktalama işaretlerinin kaldırılması\n",
        "with open('istanbul_data.txt', 'r+') as f1:\n",
        "    line1 = f1.readlines()\n",
        "    for i in line1:\n",
        "        if i in [\".,:;!'-•*=%&/()?_\"]:\n",
        "            line1.pop(i)\n",
        "            \n",
        "#sadece sayıdan oluşan satırın yeni dosyaya eklenmemesi\n",
        "with open('istanbul_data.txt', 'r+') as f2:\n",
        "    line2 = f2.readlines()\n",
        "    for i in line2:\n",
        "        if i.isdigit() == True:\n",
        "            line2.remove(i)\n",
        "            \n",
        "#unique satırlar oluşturulması\n",
        "unique = list(set(open('istanbul_data.txt', 'r+').readlines()))\n",
        "\n",
        "#türkçe harflerin replace edilmesi\n",
        "with open('istanbul_data.txt', 'r+') as f3:\n",
        "    line3 = f3.readlines()\n",
        "    replace_dic= {'ş':'s','ğ':'g','ü':'u', 'ö':'o', 'ç':'c', 'ı':'i'}\n",
        "    replace_str=''\n",
        "    for i in range(len(line3)):\n",
        "        lines = line3[i]\n",
        "        for chr in range(len(lines)):\n",
        "            if lines[chr] in replace_dic:\n",
        "                replace_str += replace_dic[lines[chr]]\n",
        "            else:\n",
        "                replace_str += lines[chr]\n",
        "print(line3)\n"
      ]
    }
  ],
  "metadata": {
    "colab": {
      "collapsed_sections": [],
      "name": "İlk Medium Yazısı Kodlar",
      "provenance": [],
      "toc_visible": true
    },
    "interpreter": {
      "hash": "5b7bcb5cad9bed29e3bc2556c968cd63ae79dbab1d37c4997008c560d2c4b0cc"
    },
    "kernelspec": {
      "display_name": "Python 3.9.7 ('base')",
      "language": "python",
      "name": "python3"
    },
    "language_info": {
      "codemirror_mode": {
        "name": "ipython",
        "version": 3
      },
      "file_extension": ".py",
      "mimetype": "text/x-python",
      "name": "python",
      "nbconvert_exporter": "python",
      "pygments_lexer": "ipython3",
      "version": "3.9.7"
    }
  },
  "nbformat": 4,
  "nbformat_minor": 0
}
